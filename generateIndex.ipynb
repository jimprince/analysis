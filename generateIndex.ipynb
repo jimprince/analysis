{
 "cells": [
  {
   "cell_type": "code",
   "execution_count": 10,
   "metadata": {},
   "outputs": [],
   "source": [
    "import os"
   ]
  },
  {
   "cell_type": "code",
   "execution_count": 11,
   "metadata": {},
   "outputs": [],
   "source": [
    "def nothidden(path):\n",
    "    return path.split(\"/\")[-1][0] != \".\""
   ]
  },
  {
   "cell_type": "code",
   "execution_count": 12,
   "metadata": {},
   "outputs": [
    {
     "data": {
      "text/plain": [
       "'/Users/brad/googleDrive/version-control/analysis'"
      ]
     },
     "execution_count": 12,
     "metadata": {},
     "output_type": "execute_result"
    }
   ],
   "source": [
    "os.getcwd()"
   ]
  },
  {
   "cell_type": "code",
   "execution_count": 13,
   "metadata": {},
   "outputs": [],
   "source": [
    "files = os.listdir()"
   ]
  },
  {
   "cell_type": "code",
   "execution_count": 14,
   "metadata": {},
   "outputs": [],
   "source": [
    "links = []\n",
    "for file in files:\n",
    "    filedir = os.getcwd()+\"/\"+file\n",
    "    if os.path.isdir(filedir) and nothidden(filedir):\n",
    "        l2 = os.listdir(filedir)\n",
    "        for item in l2:\n",
    "            if \".ipynb\" in item and nothidden(item):\n",
    "                nbview_link = \"https://nbviewer.jupyter.org/github/jimprince/analysis/blob/master/\" + file + \"/\" + item\n",
    "                links.append(nbview_link)"
   ]
  },
  {
   "cell_type": "code",
   "execution_count": 44,
   "metadata": {},
   "outputs": [
    {
     "name": "stdout",
     "output_type": "stream",
     "text": [
      "['# Analysis\\n', '\\n', 'This is a repository filled with some of the things that I look at when I need python to answer a question. Probably \\n', \"not the prettiest, but it should help me answer some of the questions I'm asking. I'll probably have some tools in \\n\", 'here to help with projects such as data scrapping and data cleaning.\\n', '\\n', '<<<>>>\\n', '\\n', 'https://nbviewer.jupyter.org/github/jimprince/analysis/blob/master/MEC_Race_Pacing/MEC_Race.ipynb\\n', '>>><<<\\n']\n",
      "linkstart 6, linkend 9, a 6\n",
      "linkstart 6, linkend 9, a 7\n",
      "linkstart 6, linkend 9, a 8\n"
     ]
    },
    {
     "ename": "IndexError",
     "evalue": "pop index out of range",
     "output_type": "error",
     "traceback": [
      "\u001b[0;31m---------------------------------------------------------------------------\u001b[0m",
      "\u001b[0;31mIndexError\u001b[0m                                Traceback (most recent call last)",
      "\u001b[0;32m<ipython-input-44-5c9e635f8caa>\u001b[0m in \u001b[0;36m<module>\u001b[0;34m\u001b[0m\n\u001b[1;32m     16\u001b[0m \u001b[0;34m\u001b[0m\u001b[0m\n\u001b[1;32m     17\u001b[0m \u001b[0;31m#             print(readme[a])\u001b[0m\u001b[0;34m\u001b[0m\u001b[0;34m\u001b[0m\u001b[0;34m\u001b[0m\u001b[0m\n\u001b[0;32m---> 18\u001b[0;31m             \u001b[0mreadme\u001b[0m\u001b[0;34m.\u001b[0m\u001b[0mpop\u001b[0m\u001b[0;34m(\u001b[0m\u001b[0ma\u001b[0m\u001b[0;34m)\u001b[0m\u001b[0;34m\u001b[0m\u001b[0;34m\u001b[0m\u001b[0m\n\u001b[0m\u001b[1;32m     19\u001b[0m \u001b[0;34m\u001b[0m\u001b[0m\n\u001b[1;32m     20\u001b[0m \u001b[0;32mwith\u001b[0m \u001b[0mopen\u001b[0m\u001b[0;34m(\u001b[0m\u001b[0;34m\"README.md\"\u001b[0m\u001b[0;34m,\u001b[0m \u001b[0;34m\"a\"\u001b[0m\u001b[0;34m)\u001b[0m \u001b[0;32mas\u001b[0m \u001b[0mf\u001b[0m\u001b[0;34m:\u001b[0m\u001b[0;34m\u001b[0m\u001b[0;34m\u001b[0m\u001b[0m\n",
      "\u001b[0;31mIndexError\u001b[0m: pop index out of range"
     ]
    }
   ],
   "source": [
    "readme = []\n",
    "linkstart = -1\n",
    "with open(\"README.md\", \"r\") as f:\n",
    "    readme = f.readlines()\n",
    "    linkstart = -1\n",
    "    linkend = -1\n",
    "    print(readme)\n",
    "    for i, line in enumerate(readme):\n",
    "        if \"<<<>>>\" in line:\n",
    "            linkstart = i\n",
    "        if \">>><<<\" in line:\n",
    "            linkend = i\n",
    "    if linkstart >= 0 and linkend  >= 0:\n",
    "        print()\n",
    "        for a in range(linkstart, linkend):\n",
    "            print(f'linkstart {linkstart}, linkend {linkend}, a {a}')\n",
    "\n",
    "#             print(readme[a])\n",
    "            readme.pop(a)\n",
    "\n",
    "with open(\"README.md\", \"a\") as f:\n",
    "    f.seek(10)\n",
    "    print(f.tell())\n",
    "#     f.writelines(links)\n",
    "    \n",
    "            \n",
    "    print(readme)"
   ]
  },
  {
   "cell_type": "code",
   "execution_count": null,
   "metadata": {},
   "outputs": [],
   "source": []
  }
 ],
 "metadata": {
  "kernelspec": {
   "display_name": "Python 3",
   "language": "python",
   "name": "python3"
  },
  "language_info": {
   "codemirror_mode": {
    "name": "ipython",
    "version": 3
   },
   "file_extension": ".py",
   "mimetype": "text/x-python",
   "name": "python",
   "nbconvert_exporter": "python",
   "pygments_lexer": "ipython3",
   "version": "3.7.2"
  }
 },
 "nbformat": 4,
 "nbformat_minor": 2
}
