{
 "cells": [
  {
   "cell_type": "code",
   "execution_count": 3,
   "metadata": {},
   "outputs": [],
   "source": [
    "import os"
   ]
  },
  {
   "cell_type": "code",
   "execution_count": 27,
   "metadata": {},
   "outputs": [],
   "source": [
    "def nothidden(path):\n",
    "    return path.split(\"/\")[-1][0] != \".\""
   ]
  },
  {
   "cell_type": "code",
   "execution_count": 11,
   "metadata": {},
   "outputs": [
    {
     "data": {
      "text/plain": [
       "'/Users/brad/googleDrive/version-control/analysis'"
      ]
     },
     "execution_count": 11,
     "metadata": {},
     "output_type": "execute_result"
    }
   ],
   "source": [
    "os.getcwd()"
   ]
  },
  {
   "cell_type": "code",
   "execution_count": 4,
   "metadata": {},
   "outputs": [],
   "source": [
    "files = os.listdir()"
   ]
  },
  {
   "cell_type": "code",
   "execution_count": 29,
   "metadata": {},
   "outputs": [
    {
     "name": "stdout",
     "output_type": "stream",
     "text": [
      "https://nbviewer.jupyter.org/github/jimprince/analysis/blob/master/MEC_Race_Pacing/MEC_Race.ipynb\n"
     ]
    }
   ],
   "source": [
    "for file in files:\n",
    "    filedir = os.getcwd()+\"/\"+file\n",
    "    if os.path.isdir(filedir) and nothidden(filedir):\n",
    "        l2 = os.listdir(filedir)\n",
    "        for item in l2:\n",
    "            if \".ipynb\" in item and nothidden(item):\n",
    "                nbview_link = \"https://nbviewer.jupyter.org/github/jimprince/analysis/blob/master/\" + file + \"/\" + item\n",
    "                print(nbview_link)"
   ]
  },
  {
   "cell_type": "code",
   "execution_count": 31,
   "metadata": {},
   "outputs": [
    {
     "name": "stdout",
     "output_type": "stream",
     "text": [
      "['# Analysis\\n', '\\n', 'This is a repository filled with some of the things that I look at when I need python to answer a question. Probably \\n', \"not the prettiest, but it should help me answer some of the questions I'm asking. I'll probably have some tools in \\n\", 'here to help with projects such as data scrapping and data cleaning.\\n']\n"
     ]
    }
   ],
   "source": [
    "with open(\"README.md\", \"r\") as f:\n",
    "    readme = f.readlines()\n",
    "    print(readme)"
   ]
  },
  {
   "cell_type": "code",
   "execution_count": null,
   "metadata": {},
   "outputs": [],
   "source": []
  }
 ],
 "metadata": {
  "kernelspec": {
   "display_name": "Python 3",
   "language": "python",
   "name": "python3"
  },
  "language_info": {
   "codemirror_mode": {
    "name": "ipython",
    "version": 3
   },
   "file_extension": ".py",
   "mimetype": "text/x-python",
   "name": "python",
   "nbconvert_exporter": "python",
   "pygments_lexer": "ipython3",
   "version": "3.7.2"
  }
 },
 "nbformat": 4,
 "nbformat_minor": 2
}
