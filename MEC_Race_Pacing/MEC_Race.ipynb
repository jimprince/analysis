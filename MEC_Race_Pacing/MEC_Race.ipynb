{
 "cells": [
  {
   "cell_type": "markdown",
   "metadata": {},
   "source": [
    "# MEC Road Race 1 Pacing Data\n",
    "### Can't see the graphs? Try viewing them [here](https://nbviewer.jupyter.org/github/jimprince/analysis/blob/master/MEC_Race_Pacing/MEC_Race.ipynb)\n",
    "\n",
    "Key Question: To graduate from a 5K to a 10K, and a 10K to a 21K, is it more important to focus on keeping the same pace longer or to speed up your pace?\n",
    "\n",
    "Answer: From the data it seems that from 5K to 10K there is a major difference in pace, moving from a mean of 6.8min/km to a mean of 5.6min/km. That translates to the average person running a 10K will run a 5K at least 5 mintues faster (and probably even faster becasue they could maintain a faster pace for less time) than the average 5k participant."
   ]
  },
  {
   "cell_type": "code",
   "execution_count": 99,
   "metadata": {
    "scrolled": true
   },
   "outputs": [
    {
     "name": "stdout",
     "output_type": "stream",
     "text": [
      "10km.CSV       21km.CSV       5km.CSV        MEC_Race.ipynb\r\n"
     ]
    }
   ],
   "source": [
    "!ls"
   ]
  },
  {
   "cell_type": "code",
   "execution_count": 24,
   "metadata": {},
   "outputs": [
    {
     "data": {
      "text/html": [
       "<script type=\"text/javascript\">window.PlotlyConfig = {MathJaxConfig: 'local'};</script><script type=\"text/javascript\">if (window.MathJax) {MathJax.Hub.Config({SVG: {font: \"STIX-Web\"}});}</script><script>requirejs.config({paths: { 'plotly': ['https://cdn.plot.ly/plotly-latest.min']},});if(!window._Plotly) {require(['plotly'],function(plotly) {window._Plotly=plotly;});}</script>"
      ],
      "text/vnd.plotly.v1+html": [
       "<script type=\"text/javascript\">window.PlotlyConfig = {MathJaxConfig: 'local'};</script><script type=\"text/javascript\">if (window.MathJax) {MathJax.Hub.Config({SVG: {font: \"STIX-Web\"}});}</script><script>requirejs.config({paths: { 'plotly': ['https://cdn.plot.ly/plotly-latest.min']},});if(!window._Plotly) {require(['plotly'],function(plotly) {window._Plotly=plotly;});}</script>"
      ]
     },
     "metadata": {},
     "output_type": "display_data"
    }
   ],
   "source": [
    "import pandas as pd\n",
    "import numpy as np\n",
    "import matplotlib.pyplot as plt\n",
    "import plotly.plotly as py\n",
    "import plotly.graph_objs as go\n",
    "import plotly.offline as offline\n",
    "from plotly.offline import iplot\n",
    "%matplotlib inline\n",
    "offline.init_notebook_mode(connected=True)"
   ]
  },
  {
   "cell_type": "code",
   "execution_count": 25,
   "metadata": {},
   "outputs": [],
   "source": [
    "column_names = [\"e\", \"place\", \"name\", \"div\", \"time\", \"bib\", \"d\", \"c\", \"b\", \"a\", \"pace_km\", \"pace_miles\"]\n",
    "five =  pd.read_csv(\"5km.CSV\", names=column_names)\n",
    "ten =  pd.read_csv(\"10km.CSV\", names=column_names)\n",
    "half =  pd.read_csv(\"21km.CSV\", names=column_names)"
   ]
  },
  {
   "cell_type": "code",
   "execution_count": 26,
   "metadata": {},
   "outputs": [],
   "source": [
    "# Implementation of the Arduino map function, b/c I guess it doesn't exist in python\n",
    "def map(x, in_min, in_max, out_min, out_max):\n",
    "    return round((x - in_min) * (out_max - out_min) / (in_max - in_min) + out_min)"
   ]
  },
  {
   "cell_type": "code",
   "execution_count": 41,
   "metadata": {},
   "outputs": [
    {
     "name": "stdout",
     "output_type": "stream",
     "text": [
      "For the 5KM race the average pace was \n",
      "Mean:6.78 min/km \t Median: 6.57 min/km\n",
      "\n",
      "For the 10KM race the average pace was \n",
      "Mean:5.63 min/km \t Median: 5.62 min/km\n",
      "\n",
      "For the 21KM race the average pace was \n",
      "Mean:5.52 min/km \t Median: 5.32 min/km\n",
      "\n"
     ]
    }
   ],
   "source": [
    "races = [five, ten, half]\n",
    "races_str = [\"5KM\", \"10KM\", \"21KM\"]\n",
    "\n",
    "for race, race_str in zip(races, races_str):\n",
    "    new = race[\"pace_km\"].str.split(\":\", n = 1, expand = True)\n",
    "    new.columns = [\"m\", \"s\"]\n",
    "    new.s = pd.to_numeric(new.s)\n",
    "    new.m = pd.to_numeric(new.m)\n",
    "    race[\"pace_s\"] = new.m * 60 + new.s\n",
    "    race[\"pace_m\"] = race.pace_s / 60.0\n",
    "    data = [go.Histogram(x=race[\"pace_m\"])]\n",
    "    layout = go.Layout(\n",
    "        autosize=False,\n",
    "        width=700,\n",
    "        height=300,\n",
    "        title=race_str,\n",
    "            xaxis=dict(\n",
    "                range=[2, 12],\n",
    "                title='Pace in Minutes/KM',\n",
    "                titlefont=dict(\n",
    "                    family='Courier New, monospace',\n",
    "                    size=18,\n",
    "                    color='#7f7f7f'\n",
    "                )\n",
    "            ),\n",
    "            yaxis=dict(\n",
    "                title='Number of People',\n",
    "                titlefont=dict(\n",
    "                    family='Courier New, monospace',\n",
    "                    size=18,\n",
    "                    color='#7f7f7f'\n",
    "                )\n",
    "            )\n",
    "        )\n",
    "    fig = go.Figure(data=data, layout=layout)\n",
    "#     plot_url = py.plot(fig, filename='MEC_PACE')\n",
    "    py.iplot(fig, filename = 'MEC_PACE')\n",
    "    print(f'For the {race_str} race the average pace was \\nMean:{round(race[\"pace_m\"].mean(), 2)} min/km \\t Median: {round(race[\"pace_m\"].median(), 2)} min/km\\n')\n",
    "\n"
   ]
  },
  {
   "cell_type": "code",
   "execution_count": null,
   "metadata": {},
   "outputs": [],
   "source": []
  }
 ],
 "metadata": {
  "kernelspec": {
   "display_name": "Python [conda env:deep-learning]",
   "language": "python",
   "name": "conda-env-deep-learning-py"
  },
  "language_info": {
   "codemirror_mode": {
    "name": "ipython",
    "version": 3
   },
   "file_extension": ".py",
   "mimetype": "text/x-python",
   "name": "python",
   "nbconvert_exporter": "python",
   "pygments_lexer": "ipython3",
   "version": "3.7.2"
  }
 },
 "nbformat": 4,
 "nbformat_minor": 2
}
