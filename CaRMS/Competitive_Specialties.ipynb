{
 "cells": [
  {
   "cell_type": "markdown",
   "metadata": {},
   "source": [
    "# Competitive Specialties\n",
    "\n",
    "### Definition:\n",
    "A competitive speciality is:\n",
    "1. Many people apply for\n",
    "2. Many people want\n",
    "\n",
    "This will maniest in the data as:\n",
    "1. one in which far more people apply to than are accepted (looking at both the ratio and raw number of applicants:seats and applicants-seats)\n",
    "2. few spots, if any, are left over at the end of first iteration \n",
    "\n",
    "We will assume individuals are acting towards achieving their first choice discipline and location. This is a simplification from individuals motivated to pursue an optimal strategy according to game theory, however, the matching algorithm facilitates this simplification.\n",
    "\n",
    "\n"
   ]
  },
  {
   "cell_type": "code",
   "execution_count": null,
   "metadata": {},
   "outputs": [],
   "source": []
  }
 ],
 "metadata": {
  "kernelspec": {
   "display_name": "Python 3",
   "language": "python",
   "name": "python3"
  },
  "language_info": {
   "codemirror_mode": {
    "name": "ipython",
    "version": 3
   },
   "file_extension": ".py",
   "mimetype": "text/x-python",
   "name": "python",
   "nbconvert_exporter": "python",
   "pygments_lexer": "ipython3",
   "version": "3.7.2"
  }
 },
 "nbformat": 4,
 "nbformat_minor": 2
}
