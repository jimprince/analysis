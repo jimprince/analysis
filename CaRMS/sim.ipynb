{
 "cells": [
  {
   "cell_type": "markdown",
   "metadata": {},
   "source": [
    "# CaRMS Match Sim"
   ]
  },
  {
   "cell_type": "markdown",
   "metadata": {},
   "source": [
    "A simulation of the match with variables that can be changed"
   ]
  },
  {
   "cell_type": "markdown",
   "metadata": {},
   "source": [
    "Process:\n",
    "1. Students form preferences for specific disciplines and locations\n",
    "2. Students do electives\n",
    "2. Students update opinions of programs based on electives\n",
    "2. Discipline creates opinions of students based on elective\n",
    "2. Students apply to programs\n",
    "3. Students are ranked by their application by program\n",
    "3. Programs select students to interview and send invitation\n",
    "4. Students accept interviews\n",
    "5. Students are interviewed by program\n",
    "6. Programs integrate interview score with prior score\n",
    "7. Students integrate interview score with prior score\n",
    "8. Programs make ROL\n",
    "9. Students make ROL\n",
    "10. Match"
   ]
  },
  {
   "cell_type": "code",
   "execution_count": 2,
   "metadata": {},
   "outputs": [],
   "source": [
    "# number of applications\n",
    "# number of discplines applied to\n",
    "# number of locations applied to\n",
    "# number of hidden qualities in student application\n",
    "#     electives\n",
    "#     essay\n",
    "#     letter of reference\n",
    "#     location\n",
    "    \n",
    "# Proportion of students who want a given discipline\n",
    "\n",
    "# weight of hidden qualities in terms of importance to a program\n",
    "\n",
    "# number of simulations\n",
    "# number of students\n",
    "# average length of rank order list\n",
    "\n",
    "# Student\n",
    "#     number of applications\n",
    "#     number of discplines applied to\n",
    "#     number of locations applied to\n",
    "#     location of electives\n",
    "#     Hidden Qualities\n",
    "#     Preinterview score\n",
    "#         by program, school\n",
    "#     Schools at which will interview\n",
    "    \n",
    "\n",
    "\n",
    "# programs\n",
    "    "
   ]
  },
  {
   "cell_type": "code",
   "execution_count": null,
   "metadata": {},
   "outputs": [],
   "source": []
  }
 ],
 "metadata": {
  "kernelspec": {
   "display_name": "Python 3",
   "language": "python",
   "name": "python3"
  },
  "language_info": {
   "codemirror_mode": {
    "name": "ipython",
    "version": 3
   },
   "file_extension": ".py",
   "mimetype": "text/x-python",
   "name": "python",
   "nbconvert_exporter": "python",
   "pygments_lexer": "ipython3",
   "version": "3.7.2"
  }
 },
 "nbformat": 4,
 "nbformat_minor": 2
}
