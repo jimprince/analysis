{
 "cells": [
  {
   "cell_type": "markdown",
   "metadata": {},
   "source": [
    "# CaRMS Match Sim"
   ]
  },
  {
   "cell_type": "markdown",
   "metadata": {},
   "source": [
    "A simulation of the match with variables that can be changed"
   ]
  },
  {
   "cell_type": "markdown",
   "metadata": {},
   "source": [
    "Process:\n",
    "1. (Not considered) Students form preferences for specific locations (student.location_preference[x].update(float score)) Randomly initialized based on province of residency and updated based on school attending.\n",
    "2. Preferences for disciplines (student.discipline_preference[x].update())\n",
    "2. Students do electives\n",
    "2. Students update opinions of programs based on electives\n",
    "2. Program creates opinions of students based on elective\n",
    "2. Students apply to programs\n",
    "3. Students are ranked by their application by program\n",
    "3. Programs select students to interview and send invitation\n",
    "4. Students accept interviews\n",
    "5. Students are interviewed by program\n",
    "6. Programs integrate interview score with prior score\n",
    "7. Students integrate interview score with prior score\n",
    "8. Programs make ROL\n",
    "9. Students make ROL\n",
    "10. Match"
   ]
  },
  {
   "cell_type": "code",
   "execution_count": 2,
   "metadata": {},
   "outputs": [],
   "source": [
    "# number of applications\n",
    "# number of discplines applied to\n",
    "# number of locations applied to\n",
    "# number of hidden qualities in student application\n",
    "#     electives\n",
    "#     essay\n",
    "#     letter of reference\n",
    "#     location\n",
    "    \n",
    "# Proportion of students who want a given discipline\n",
    "\n",
    "# weight of hidden qualities in terms of importance to a program\n",
    "\n",
    "# number of simulations\n",
    "# number of students\n",
    "# average length of rank order list\n",
    "\n",
    "# Student\n",
    "#     number of applications\n",
    "#     Application Strategy\n",
    "#     number of discplines applied to\n",
    "#     number of locations applied to\n",
    "#     location of electives\n",
    "#     Hidden Qualities\n",
    "#     Preinterview score\n",
    "#         by program, school\n",
    "#     Schools at which will interview\n",
    "    \n",
    "\n",
    "\n",
    "# programs\n",
    "    \n",
    "    \n",
    "class Student:\n",
    "    cost_per_interview = 550\n",
    "    \n",
    "    def __init__():\n",
    "        #school, discipline preference, number of applications, length of ROL, Quality of student\n",
    "        self.id = 0\n",
    "        self.money_spent = 0\n",
    "        self.school = \"\"\n",
    "        self.discipline_pref = []\n",
    "        self.num_discipline = len(self.disipline_pref)\n",
    "        self.num_applications = 0\n",
    "        self.ROL_len = 3\n",
    "        self.student_quality = 0\n",
    "        self.application_strategy = 0\n",
    "        self.electives = []\n",
    "        self.hidden_variables = []\n",
    "        self.school_score = 0\n",
    "        self.pre_elective_preference = [[], [], []]\n",
    "        self.post_elective_preference = [[], [], []]\n",
    "        self.pre_interview_preference = [[], [], []]\n",
    "        self.post_interview_preference = [[], [], []]\n",
    "        self.final_preference = [[], [], []]\n",
    "        self.ROL = []\n",
    "\n",
    "class School:\n",
    "    cost_per_application = 10\n",
    "    cost_per_interview = 30\n",
    "    def __init__():\n",
    "        self.num_positions = 0\n",
    "        self.interview_position_ratio = 0\n",
    "        self.num_interviews = self.num_positions * self.interview_position_ratio\n",
    "        self.student_scores_post_elective = {id : score, id: score}\n",
    "        self.student_scores_post_application = {id : score, id: score}\n",
    "        self.student_scores_post_interview = {id : score, id: score}\n",
    "        self.ROL = []\n",
    "\n",
    "class Commander:\n",
    "    students = []\n",
    "    def __init__():\n",
    "        self.num_students = 0\n",
    "        self.programs = pd.DataFrame()\n",
    "        self.students = []\n",
    "    \n",
    "    def getAttribtues():\n",
    "        return attributes\n",
    "    \n",
    "    def ready():\n",
    "        for s in arange(0, self.num_students):\n",
    "            attributes = getAttributes()\n",
    "            student = Student(id= s, attributes = attributes)\n",
    "        \n",
    "        \n",
    "#initialization\n",
    "def main():\n",
    "    pass\n",
    "\n",
    "if __name__ == \"__main__\":\n",
    "    main()\n",
    "    \n",
    "    \n"
   ]
  },
  {
   "cell_type": "markdown",
   "metadata": {},
   "source": [
    "## Other:\n",
    "\n",
    "1. How much does CaRMS tour cost?\n",
    "2. What is the optimum number of residency positions?\n",
    "    1. What disciplines, and at what schools?"
   ]
  },
  {
   "cell_type": "markdown",
   "metadata": {},
   "source": [
    "# Assumptions\n",
    "1. Students don't talk to each other (one student's perception of a program doesn't affect anyone else's opinion of that program\n",
    "2. "
   ]
  },
  {
   "cell_type": "code",
   "execution_count": 5,
   "metadata": {},
   "outputs": [
    {
     "name": "stdout",
     "output_type": "stream",
     "text": [
      "My new car is a Honda\n",
      "My car, like all cars, has 4 wheels\n"
     ]
    }
   ],
   "source": [
    "class Car(object):\n",
    "    wheels = 4\n",
    "\n",
    "    def __init__(self, make):\n",
    "        self.make = make\n",
    "\n",
    "newCar = Car(\"Honda\")\n",
    "print (\"My new car is a {}\".format(newCar.make))\n",
    "print (f'My car, like all cars, has {Car.wheels} wheels')"
   ]
  },
  {
   "cell_type": "code",
   "execution_count": null,
   "metadata": {},
   "outputs": [],
   "source": []
  }
 ],
 "metadata": {
  "kernelspec": {
   "display_name": "Python 3",
   "language": "python",
   "name": "python3"
  },
  "language_info": {
   "codemirror_mode": {
    "name": "ipython",
    "version": 3
   },
   "file_extension": ".py",
   "mimetype": "text/x-python",
   "name": "python",
   "nbconvert_exporter": "python",
   "pygments_lexer": "ipython3",
   "version": "3.7.2"
  }
 },
 "nbformat": 4,
 "nbformat_minor": 2
}
